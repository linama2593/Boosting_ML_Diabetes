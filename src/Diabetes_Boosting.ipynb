{
  "cells": [
    {
      "cell_type": "markdown",
      "metadata": {},
      "source": [
        "The aim of this exercise is to predict whether a patient has diabetes using data from the National Institute of Diabetes and Digestive and Kidney Diseases using a boosting model\n",
        "\n",
        "**Note:** the full exploratory data analysis can be found here: https://github.com/linama2593/Decis_Tree_Diabetes "
      ]
    },
    {
      "cell_type": "markdown",
      "metadata": {},
      "source": [
        "# Imports:"
      ]
    },
    {
      "cell_type": "code",
      "execution_count": 2,
      "metadata": {
        "id": "9t9gqObVHJCz"
      },
      "outputs": [],
      "source": [
        "import pandas as pd\n",
        "import numpy as np\n",
        "import seaborn as sns\n",
        "import matplotlib.pyplot as plt\n",
        "from pickle import dump, load\n",
        "from sklearn.feature_selection import chi2 , SelectKBest, mutual_info_regression\n",
        "from sklearn.feature_selection import f_classif\n",
        "from sklearn.model_selection import train_test_split, GridSearchCV, StratifiedKFold\n",
        "from sklearn.preprocessing import LabelEncoder\n",
        "from sklearn.linear_model import LogisticRegression, LinearRegression, Lasso, Ridge, LassoCV\n",
        "from sklearn.model_selection import RandomizedSearchCV\n",
        "from sklearn.metrics import accuracy_score, f1_score, mean_squared_error, r2_score, make_scorer, classification_report\n",
        "from sklearn.preprocessing import StandardScaler, MinMaxScaler\n",
        "from sklearn import metrics\n",
        "from xgboost import XGBClassifier\n",
        "from sklearn.tree import DecisionTreeClassifier\n",
        "from sklearn.ensemble import RandomForestClassifier\n",
        "# explicitly require this experimental feature\n",
        "from sklearn.experimental import enable_iterative_imputer  # noqa\n",
        "# now you can import normally from sklearn.impute\n",
        "from sklearn.impute import IterativeImputer\n",
        "from sklearn import tree\n"
      ]
    },
    {
      "cell_type": "markdown",
      "metadata": {},
      "source": [
        "# Opening train and test data"
      ]
    },
    {
      "cell_type": "code",
      "execution_count": 3,
      "metadata": {
        "id": "aHQhYlTCVASF"
      },
      "outputs": [],
      "source": [
        "\n",
        "X_train_nn=pd.read_csv('https://raw.githubusercontent.com/linama2593/Decis_Tree_Diabetes/main/data/processed/X_train_nn.csv')\n",
        "X_test_nn=pd.read_csv('https://raw.githubusercontent.com/linama2593/Decis_Tree_Diabetes/main/data/processed/X_test_nn.csv')\n",
        "\n",
        "y_train=pd.read_csv(\"https://raw.githubusercontent.com/linama2593/Decis_Tree_Diabetes/main/data/processed/y_train.txt\", header=None)\n",
        "y_test=pd.read_csv(\"https://raw.githubusercontent.com/linama2593/Decis_Tree_Diabetes/main/data/processed/y_test.txt\", header=None)\n",
        "#the code above imports y as dataframe, below I convert it to a pd series\n",
        "y_train=y_train[0]\n",
        "y_test=y_test[0]"
      ]
    },
    {
      "cell_type": "markdown",
      "metadata": {},
      "source": [
        "# Boosting algorithm - Baseline estimation"
      ]
    },
    {
      "cell_type": "code",
      "execution_count": 4,
      "metadata": {},
      "outputs": [
        {
          "data": {
            "text/html": [
              "<style>#sk-container-id-1 {color: black;}#sk-container-id-1 pre{padding: 0;}#sk-container-id-1 div.sk-toggleable {background-color: white;}#sk-container-id-1 label.sk-toggleable__label {cursor: pointer;display: block;width: 100%;margin-bottom: 0;padding: 0.3em;box-sizing: border-box;text-align: center;}#sk-container-id-1 label.sk-toggleable__label-arrow:before {content: \"▸\";float: left;margin-right: 0.25em;color: #696969;}#sk-container-id-1 label.sk-toggleable__label-arrow:hover:before {color: black;}#sk-container-id-1 div.sk-estimator:hover label.sk-toggleable__label-arrow:before {color: black;}#sk-container-id-1 div.sk-toggleable__content {max-height: 0;max-width: 0;overflow: hidden;text-align: left;background-color: #f0f8ff;}#sk-container-id-1 div.sk-toggleable__content pre {margin: 0.2em;color: black;border-radius: 0.25em;background-color: #f0f8ff;}#sk-container-id-1 input.sk-toggleable__control:checked~div.sk-toggleable__content {max-height: 200px;max-width: 100%;overflow: auto;}#sk-container-id-1 input.sk-toggleable__control:checked~label.sk-toggleable__label-arrow:before {content: \"▾\";}#sk-container-id-1 div.sk-estimator input.sk-toggleable__control:checked~label.sk-toggleable__label {background-color: #d4ebff;}#sk-container-id-1 div.sk-label input.sk-toggleable__control:checked~label.sk-toggleable__label {background-color: #d4ebff;}#sk-container-id-1 input.sk-hidden--visually {border: 0;clip: rect(1px 1px 1px 1px);clip: rect(1px, 1px, 1px, 1px);height: 1px;margin: -1px;overflow: hidden;padding: 0;position: absolute;width: 1px;}#sk-container-id-1 div.sk-estimator {font-family: monospace;background-color: #f0f8ff;border: 1px dotted black;border-radius: 0.25em;box-sizing: border-box;margin-bottom: 0.5em;}#sk-container-id-1 div.sk-estimator:hover {background-color: #d4ebff;}#sk-container-id-1 div.sk-parallel-item::after {content: \"\";width: 100%;border-bottom: 1px solid gray;flex-grow: 1;}#sk-container-id-1 div.sk-label:hover label.sk-toggleable__label {background-color: #d4ebff;}#sk-container-id-1 div.sk-serial::before {content: \"\";position: absolute;border-left: 1px solid gray;box-sizing: border-box;top: 0;bottom: 0;left: 50%;z-index: 0;}#sk-container-id-1 div.sk-serial {display: flex;flex-direction: column;align-items: center;background-color: white;padding-right: 0.2em;padding-left: 0.2em;position: relative;}#sk-container-id-1 div.sk-item {position: relative;z-index: 1;}#sk-container-id-1 div.sk-parallel {display: flex;align-items: stretch;justify-content: center;background-color: white;position: relative;}#sk-container-id-1 div.sk-item::before, #sk-container-id-1 div.sk-parallel-item::before {content: \"\";position: absolute;border-left: 1px solid gray;box-sizing: border-box;top: 0;bottom: 0;left: 50%;z-index: -1;}#sk-container-id-1 div.sk-parallel-item {display: flex;flex-direction: column;z-index: 1;position: relative;background-color: white;}#sk-container-id-1 div.sk-parallel-item:first-child::after {align-self: flex-end;width: 50%;}#sk-container-id-1 div.sk-parallel-item:last-child::after {align-self: flex-start;width: 50%;}#sk-container-id-1 div.sk-parallel-item:only-child::after {width: 0;}#sk-container-id-1 div.sk-dashed-wrapped {border: 1px dashed gray;margin: 0 0.4em 0.5em 0.4em;box-sizing: border-box;padding-bottom: 0.4em;background-color: white;}#sk-container-id-1 div.sk-label label {font-family: monospace;font-weight: bold;display: inline-block;line-height: 1.2em;}#sk-container-id-1 div.sk-label-container {text-align: center;}#sk-container-id-1 div.sk-container {/* jupyter's `normalize.less` sets `[hidden] { display: none; }` but bootstrap.min.css set `[hidden] { display: none !important; }` so we also need the `!important` here to be able to override the default hidden behavior on the sphinx rendered scikit-learn.org. See: https://github.com/scikit-learn/scikit-learn/issues/21755 */display: inline-block !important;position: relative;}#sk-container-id-1 div.sk-text-repr-fallback {display: none;}</style><div id=\"sk-container-id-1\" class=\"sk-top-container\"><div class=\"sk-text-repr-fallback\"><pre>XGBClassifier(base_score=None, booster=None, callbacks=None,\n",
              "              colsample_bylevel=None, colsample_bynode=None,\n",
              "              colsample_bytree=None, device=None, early_stopping_rounds=None,\n",
              "              enable_categorical=False, eval_metric=None, feature_types=None,\n",
              "              gamma=None, grow_policy=None, importance_type=None,\n",
              "              interaction_constraints=None, learning_rate=None, max_bin=None,\n",
              "              max_cat_threshold=None, max_cat_to_onehot=None,\n",
              "              max_delta_step=None, max_depth=None, max_leaves=None,\n",
              "              min_child_weight=None, missing=nan, monotone_constraints=None,\n",
              "              multi_strategy=None, n_estimators=None, n_jobs=None,\n",
              "              num_parallel_tree=None, random_state=42, ...)</pre><b>In a Jupyter environment, please rerun this cell to show the HTML representation or trust the notebook. <br />On GitHub, the HTML representation is unable to render, please try loading this page with nbviewer.org.</b></div><div class=\"sk-container\" hidden><div class=\"sk-item\"><div class=\"sk-estimator sk-toggleable\"><input class=\"sk-toggleable__control sk-hidden--visually\" id=\"sk-estimator-id-1\" type=\"checkbox\" checked><label for=\"sk-estimator-id-1\" class=\"sk-toggleable__label sk-toggleable__label-arrow\">XGBClassifier</label><div class=\"sk-toggleable__content\"><pre>XGBClassifier(base_score=None, booster=None, callbacks=None,\n",
              "              colsample_bylevel=None, colsample_bynode=None,\n",
              "              colsample_bytree=None, device=None, early_stopping_rounds=None,\n",
              "              enable_categorical=False, eval_metric=None, feature_types=None,\n",
              "              gamma=None, grow_policy=None, importance_type=None,\n",
              "              interaction_constraints=None, learning_rate=None, max_bin=None,\n",
              "              max_cat_threshold=None, max_cat_to_onehot=None,\n",
              "              max_delta_step=None, max_depth=None, max_leaves=None,\n",
              "              min_child_weight=None, missing=nan, monotone_constraints=None,\n",
              "              multi_strategy=None, n_estimators=None, n_jobs=None,\n",
              "              num_parallel_tree=None, random_state=42, ...)</pre></div></div></div></div></div>"
            ],
            "text/plain": [
              "XGBClassifier(base_score=None, booster=None, callbacks=None,\n",
              "              colsample_bylevel=None, colsample_bynode=None,\n",
              "              colsample_bytree=None, device=None, early_stopping_rounds=None,\n",
              "              enable_categorical=False, eval_metric=None, feature_types=None,\n",
              "              gamma=None, grow_policy=None, importance_type=None,\n",
              "              interaction_constraints=None, learning_rate=None, max_bin=None,\n",
              "              max_cat_threshold=None, max_cat_to_onehot=None,\n",
              "              max_delta_step=None, max_depth=None, max_leaves=None,\n",
              "              min_child_weight=None, missing=nan, monotone_constraints=None,\n",
              "              multi_strategy=None, n_estimators=None, n_jobs=None,\n",
              "              num_parallel_tree=None, random_state=42, ...)"
            ]
          },
          "execution_count": 4,
          "metadata": {},
          "output_type": "execute_result"
        }
      ],
      "source": [
        "\n",
        "boost_base= XGBClassifier(random_state = 42)\n",
        "boost_base.fit(X_train_nn, y_train)"
      ]
    },
    {
      "cell_type": "code",
      "execution_count": 5,
      "metadata": {},
      "outputs": [],
      "source": [
        "y_pred_train=boost_base.predict(X_train_nn)\n",
        "y_pred=boost_base.predict(X_test_nn)"
      ]
    },
    {
      "cell_type": "markdown",
      "metadata": {},
      "source": [
        "## Model performance"
      ]
    },
    {
      "cell_type": "markdown",
      "metadata": {},
      "source": [
        "Accuracy train vs test data:\n",
        "\n",
        "The baseline model suggests there is overfitting since the accuracy of the training data is higher than the test data. Neverthless, the baseline accuracy of the random forest is 74%, which is 4 percentage points lower than the one obtained from the optimised random forest"
      ]
    },
    {
      "cell_type": "code",
      "execution_count": 6,
      "metadata": {},
      "outputs": [
        {
          "name": "stdout",
          "output_type": "stream",
          "text": [
            "Random forest - Accuracy train:  1.0\n",
            "Random forest - Accuracy test:  0.7402597402597403\n"
          ]
        }
      ],
      "source": [
        "boost_acc_base=accuracy_score(y_pred,y_test)\n",
        "boost_acc_train=accuracy_score(y_pred_train,y_train)\n",
        "print('Random forest - Accuracy train: ', boost_acc_train)\n",
        "print('Random forest - Accuracy test: ', boost_acc_base)"
      ]
    },
    {
      "cell_type": "markdown",
      "metadata": {},
      "source": [
        "Storung confusion matrix to plot it after optimisation"
      ]
    },
    {
      "cell_type": "code",
      "execution_count": 8,
      "metadata": {},
      "outputs": [],
      "source": [
        "boost_base_cm = metrics.ConfusionMatrixDisplay(\n",
        "    confusion_matrix = metrics.confusion_matrix(y_test, y_pred), display_labels = ['NO Diabetes', 'Diabetes']    )"
      ]
    },
    {
      "cell_type": "markdown",
      "metadata": {
        "id": "iR9_QjLOQ-cq"
      },
      "source": [
        "# Hyperparameter tunning"
      ]
    },
    {
      "cell_type": "markdown",
      "metadata": {},
      "source": [
        "## Random search CV"
      ]
    },
    {
      "cell_type": "markdown",
      "metadata": {
        "id": "Fk5FKXufaX-x"
      },
      "source": [
        "The random search will provide an overall idea of where the best hyperparameters are. Using np.random.randint() for some of othe hyperparameters will reduce the estimation time as the function will pick different integers on each iteration as opposed to working with a full range. Also, skipping the random state will allow to try different combinations each time the model is re-run "
      ]
    },
    {
      "cell_type": "code",
      "execution_count": 9,
      "metadata": {
        "id": "mU-G91z0PmVk"
      },
      "outputs": [],
      "source": [
        "from random import randint\n",
        "hyprms={\n",
        "    'booster': ['gbtree', 'gblinear', 'dart'],\n",
        "    'n_estimators': np.random.randint(50,700,5),\n",
        "    #params for bgtree\n",
        "    'min_child_weight': np.linspace(0.01, 1, 5, endpoint=False),\n",
        "    'colsample_bylevel': np.linspace(0.01, 1, 5,),\n",
        "    'learning_rate': np.linspace(0.01, 1, 5),\n",
        "    'min_split_loss': np.random.randint(100, 600,5),\n",
        "    'subsample': np.linspace(0.01, 1, 5, endpoint=False),\n",
        "    'max_depth': np.random.randint(0,500,5)\n",
        "#'colsample_by_level'\n",
        "}\n",
        "score=['accuracy', 'f1']\n",
        "\n",
        "kfold=StratifiedKFold(n_splits=5)"
      ]
    },
    {
      "cell_type": "code",
      "execution_count": 12,
      "metadata": {
        "id": "u1dIoeMmXdsv"
      },
      "outputs": [],
      "source": [
        "boost_opt=RandomizedSearchCV(boost_base, hyprms, scoring='accuracy', cv=kfold, refit=True, n_iter = 50)#, random_state = 42)"
      ]
    },
    {
      "cell_type": "code",
      "execution_count": 13,
      "metadata": {
        "colab": {
          "base_uri": "https://localhost:8080/",
          "height": 116
        },
        "id": "ucIHpAcLX82X",
        "outputId": "25e2eb00-44f1-42e1-a2df-8c7f650b7363"
      },
      "outputs": [
        {
          "data": {
            "text/html": [
              "<style>#sk-container-id-2 {color: black;}#sk-container-id-2 pre{padding: 0;}#sk-container-id-2 div.sk-toggleable {background-color: white;}#sk-container-id-2 label.sk-toggleable__label {cursor: pointer;display: block;width: 100%;margin-bottom: 0;padding: 0.3em;box-sizing: border-box;text-align: center;}#sk-container-id-2 label.sk-toggleable__label-arrow:before {content: \"▸\";float: left;margin-right: 0.25em;color: #696969;}#sk-container-id-2 label.sk-toggleable__label-arrow:hover:before {color: black;}#sk-container-id-2 div.sk-estimator:hover label.sk-toggleable__label-arrow:before {color: black;}#sk-container-id-2 div.sk-toggleable__content {max-height: 0;max-width: 0;overflow: hidden;text-align: left;background-color: #f0f8ff;}#sk-container-id-2 div.sk-toggleable__content pre {margin: 0.2em;color: black;border-radius: 0.25em;background-color: #f0f8ff;}#sk-container-id-2 input.sk-toggleable__control:checked~div.sk-toggleable__content {max-height: 200px;max-width: 100%;overflow: auto;}#sk-container-id-2 input.sk-toggleable__control:checked~label.sk-toggleable__label-arrow:before {content: \"▾\";}#sk-container-id-2 div.sk-estimator input.sk-toggleable__control:checked~label.sk-toggleable__label {background-color: #d4ebff;}#sk-container-id-2 div.sk-label input.sk-toggleable__control:checked~label.sk-toggleable__label {background-color: #d4ebff;}#sk-container-id-2 input.sk-hidden--visually {border: 0;clip: rect(1px 1px 1px 1px);clip: rect(1px, 1px, 1px, 1px);height: 1px;margin: -1px;overflow: hidden;padding: 0;position: absolute;width: 1px;}#sk-container-id-2 div.sk-estimator {font-family: monospace;background-color: #f0f8ff;border: 1px dotted black;border-radius: 0.25em;box-sizing: border-box;margin-bottom: 0.5em;}#sk-container-id-2 div.sk-estimator:hover {background-color: #d4ebff;}#sk-container-id-2 div.sk-parallel-item::after {content: \"\";width: 100%;border-bottom: 1px solid gray;flex-grow: 1;}#sk-container-id-2 div.sk-label:hover label.sk-toggleable__label {background-color: #d4ebff;}#sk-container-id-2 div.sk-serial::before {content: \"\";position: absolute;border-left: 1px solid gray;box-sizing: border-box;top: 0;bottom: 0;left: 50%;z-index: 0;}#sk-container-id-2 div.sk-serial {display: flex;flex-direction: column;align-items: center;background-color: white;padding-right: 0.2em;padding-left: 0.2em;position: relative;}#sk-container-id-2 div.sk-item {position: relative;z-index: 1;}#sk-container-id-2 div.sk-parallel {display: flex;align-items: stretch;justify-content: center;background-color: white;position: relative;}#sk-container-id-2 div.sk-item::before, #sk-container-id-2 div.sk-parallel-item::before {content: \"\";position: absolute;border-left: 1px solid gray;box-sizing: border-box;top: 0;bottom: 0;left: 50%;z-index: -1;}#sk-container-id-2 div.sk-parallel-item {display: flex;flex-direction: column;z-index: 1;position: relative;background-color: white;}#sk-container-id-2 div.sk-parallel-item:first-child::after {align-self: flex-end;width: 50%;}#sk-container-id-2 div.sk-parallel-item:last-child::after {align-self: flex-start;width: 50%;}#sk-container-id-2 div.sk-parallel-item:only-child::after {width: 0;}#sk-container-id-2 div.sk-dashed-wrapped {border: 1px dashed gray;margin: 0 0.4em 0.5em 0.4em;box-sizing: border-box;padding-bottom: 0.4em;background-color: white;}#sk-container-id-2 div.sk-label label {font-family: monospace;font-weight: bold;display: inline-block;line-height: 1.2em;}#sk-container-id-2 div.sk-label-container {text-align: center;}#sk-container-id-2 div.sk-container {/* jupyter's `normalize.less` sets `[hidden] { display: none; }` but bootstrap.min.css set `[hidden] { display: none !important; }` so we also need the `!important` here to be able to override the default hidden behavior on the sphinx rendered scikit-learn.org. See: https://github.com/scikit-learn/scikit-learn/issues/21755 */display: inline-block !important;position: relative;}#sk-container-id-2 div.sk-text-repr-fallback {display: none;}</style><div id=\"sk-container-id-2\" class=\"sk-top-container\"><div class=\"sk-text-repr-fallback\"><pre>RandomizedSearchCV(cv=StratifiedKFold(n_splits=5, random_state=None, shuffle=False),\n",
              "                   estimator=XGBClassifier(base_score=None, booster=None,\n",
              "                                           callbacks=None,\n",
              "                                           colsample_bylevel=None,\n",
              "                                           colsample_bynode=None,\n",
              "                                           colsample_bytree=None, device=None,\n",
              "                                           early_stopping_rounds=None,\n",
              "                                           enable_categorical=False,\n",
              "                                           eval_metric=None, feature_types=None,\n",
              "                                           gamma=None, grow_policy=None,\n",
              "                                           impor...\n",
              "                                        &#x27;colsample_bylevel&#x27;: array([0.01  , 0.2575, 0.505 , 0.7525, 1.    ]),\n",
              "                                        &#x27;learning_rate&#x27;: array([0.01  , 0.2575, 0.505 , 0.7525, 1.    ]),\n",
              "                                        &#x27;max_depth&#x27;: array([ 27,  39, 469, 434,  18]),\n",
              "                                        &#x27;min_child_weight&#x27;: array([0.01 , 0.208, 0.406, 0.604, 0.802]),\n",
              "                                        &#x27;min_split_loss&#x27;: array([570, 447, 249, 124, 546]),\n",
              "                                        &#x27;n_estimators&#x27;: array([140, 617, 211,  88, 452]),\n",
              "                                        &#x27;subsample&#x27;: array([0.01 , 0.208, 0.406, 0.604, 0.802])},\n",
              "                   scoring=&#x27;accuracy&#x27;)</pre><b>In a Jupyter environment, please rerun this cell to show the HTML representation or trust the notebook. <br />On GitHub, the HTML representation is unable to render, please try loading this page with nbviewer.org.</b></div><div class=\"sk-container\" hidden><div class=\"sk-item sk-dashed-wrapped\"><div class=\"sk-label-container\"><div class=\"sk-label sk-toggleable\"><input class=\"sk-toggleable__control sk-hidden--visually\" id=\"sk-estimator-id-2\" type=\"checkbox\" ><label for=\"sk-estimator-id-2\" class=\"sk-toggleable__label sk-toggleable__label-arrow\">RandomizedSearchCV</label><div class=\"sk-toggleable__content\"><pre>RandomizedSearchCV(cv=StratifiedKFold(n_splits=5, random_state=None, shuffle=False),\n",
              "                   estimator=XGBClassifier(base_score=None, booster=None,\n",
              "                                           callbacks=None,\n",
              "                                           colsample_bylevel=None,\n",
              "                                           colsample_bynode=None,\n",
              "                                           colsample_bytree=None, device=None,\n",
              "                                           early_stopping_rounds=None,\n",
              "                                           enable_categorical=False,\n",
              "                                           eval_metric=None, feature_types=None,\n",
              "                                           gamma=None, grow_policy=None,\n",
              "                                           impor...\n",
              "                                        &#x27;colsample_bylevel&#x27;: array([0.01  , 0.2575, 0.505 , 0.7525, 1.    ]),\n",
              "                                        &#x27;learning_rate&#x27;: array([0.01  , 0.2575, 0.505 , 0.7525, 1.    ]),\n",
              "                                        &#x27;max_depth&#x27;: array([ 27,  39, 469, 434,  18]),\n",
              "                                        &#x27;min_child_weight&#x27;: array([0.01 , 0.208, 0.406, 0.604, 0.802]),\n",
              "                                        &#x27;min_split_loss&#x27;: array([570, 447, 249, 124, 546]),\n",
              "                                        &#x27;n_estimators&#x27;: array([140, 617, 211,  88, 452]),\n",
              "                                        &#x27;subsample&#x27;: array([0.01 , 0.208, 0.406, 0.604, 0.802])},\n",
              "                   scoring=&#x27;accuracy&#x27;)</pre></div></div></div><div class=\"sk-parallel\"><div class=\"sk-parallel-item\"><div class=\"sk-item\"><div class=\"sk-label-container\"><div class=\"sk-label sk-toggleable\"><input class=\"sk-toggleable__control sk-hidden--visually\" id=\"sk-estimator-id-3\" type=\"checkbox\" ><label for=\"sk-estimator-id-3\" class=\"sk-toggleable__label sk-toggleable__label-arrow\">estimator: XGBClassifier</label><div class=\"sk-toggleable__content\"><pre>XGBClassifier(base_score=None, booster=None, callbacks=None,\n",
              "              colsample_bylevel=None, colsample_bynode=None,\n",
              "              colsample_bytree=None, device=None, early_stopping_rounds=None,\n",
              "              enable_categorical=False, eval_metric=None, feature_types=None,\n",
              "              gamma=None, grow_policy=None, importance_type=None,\n",
              "              interaction_constraints=None, learning_rate=None, max_bin=None,\n",
              "              max_cat_threshold=None, max_cat_to_onehot=None,\n",
              "              max_delta_step=None, max_depth=None, max_leaves=None,\n",
              "              min_child_weight=None, missing=nan, monotone_constraints=None,\n",
              "              multi_strategy=None, n_estimators=None, n_jobs=None,\n",
              "              num_parallel_tree=None, random_state=42, ...)</pre></div></div></div><div class=\"sk-serial\"><div class=\"sk-item\"><div class=\"sk-estimator sk-toggleable\"><input class=\"sk-toggleable__control sk-hidden--visually\" id=\"sk-estimator-id-4\" type=\"checkbox\" ><label for=\"sk-estimator-id-4\" class=\"sk-toggleable__label sk-toggleable__label-arrow\">XGBClassifier</label><div class=\"sk-toggleable__content\"><pre>XGBClassifier(base_score=None, booster=None, callbacks=None,\n",
              "              colsample_bylevel=None, colsample_bynode=None,\n",
              "              colsample_bytree=None, device=None, early_stopping_rounds=None,\n",
              "              enable_categorical=False, eval_metric=None, feature_types=None,\n",
              "              gamma=None, grow_policy=None, importance_type=None,\n",
              "              interaction_constraints=None, learning_rate=None, max_bin=None,\n",
              "              max_cat_threshold=None, max_cat_to_onehot=None,\n",
              "              max_delta_step=None, max_depth=None, max_leaves=None,\n",
              "              min_child_weight=None, missing=nan, monotone_constraints=None,\n",
              "              multi_strategy=None, n_estimators=None, n_jobs=None,\n",
              "              num_parallel_tree=None, random_state=42, ...)</pre></div></div></div></div></div></div></div></div></div></div>"
            ],
            "text/plain": [
              "RandomizedSearchCV(cv=StratifiedKFold(n_splits=5, random_state=None, shuffle=False),\n",
              "                   estimator=XGBClassifier(base_score=None, booster=None,\n",
              "                                           callbacks=None,\n",
              "                                           colsample_bylevel=None,\n",
              "                                           colsample_bynode=None,\n",
              "                                           colsample_bytree=None, device=None,\n",
              "                                           early_stopping_rounds=None,\n",
              "                                           enable_categorical=False,\n",
              "                                           eval_metric=None, feature_types=None,\n",
              "                                           gamma=None, grow_policy=None,\n",
              "                                           impor...\n",
              "                                        'colsample_bylevel': array([0.01  , 0.2575, 0.505 , 0.7525, 1.    ]),\n",
              "                                        'learning_rate': array([0.01  , 0.2575, 0.505 , 0.7525, 1.    ]),\n",
              "                                        'max_depth': array([ 27,  39, 469, 434,  18]),\n",
              "                                        'min_child_weight': array([0.01 , 0.208, 0.406, 0.604, 0.802]),\n",
              "                                        'min_split_loss': array([570, 447, 249, 124, 546]),\n",
              "                                        'n_estimators': array([140, 617, 211,  88, 452]),\n",
              "                                        'subsample': array([0.01 , 0.208, 0.406, 0.604, 0.802])},\n",
              "                   scoring='accuracy')"
            ]
          },
          "execution_count": 13,
          "metadata": {},
          "output_type": "execute_result"
        }
      ],
      "source": [
        "def warn(*args, **kwargs):\n",
        "    pass\n",
        "import warnings\n",
        "warnings.warn = warn\n",
        "\n",
        "boost_opt.fit(X_train_nn,y_train)"
      ]
    },
    {
      "cell_type": "markdown",
      "metadata": {},
      "source": [
        "Since the random search does not have a random state, here I store the findings to re-estimate the model with the combinations of hyperparamenters that performed best"
      ]
    },
    {
      "cell_type": "code",
      "execution_count": 14,
      "metadata": {},
      "outputs": [],
      "source": [
        "#Storing Grid search results as dataframe\n",
        "result=pd.DataFrame(boost_opt.cv_results_)\n",
        "\n",
        "to_rename = {'param_n_estimators': \"n_estimators\", \n",
        "    'param_min_samples_split': 'min_samples_split',\n",
        "       'param_min_samples_leaf': 'min_samples_leaf', \n",
        "       'param_max_depth': 'max_depth'}\n",
        "\n",
        "result.rename(columns=to_rename, inplace=True)# Rename the columns"
      ]
    },
    {
      "cell_type": "code",
      "execution_count": 20,
      "metadata": {},
      "outputs": [
        {
          "name": "stdout",
          "output_type": "stream",
          "text": [
            "<class 'pandas.core.frame.DataFrame'>\n",
            "RangeIndex: 50 entries, 0 to 49\n",
            "Data columns (total 21 columns):\n",
            " #   Column                   Non-Null Count  Dtype  \n",
            "---  ------                   --------------  -----  \n",
            " 0   mean_fit_time            50 non-null     float64\n",
            " 1   std_fit_time             50 non-null     float64\n",
            " 2   mean_score_time          50 non-null     float64\n",
            " 3   std_score_time           50 non-null     float64\n",
            " 4   param_subsample          50 non-null     object \n",
            " 5   n_estimators             50 non-null     object \n",
            " 6   param_min_split_loss     50 non-null     object \n",
            " 7   param_min_child_weight   50 non-null     object \n",
            " 8   max_depth                50 non-null     object \n",
            " 9   param_learning_rate      50 non-null     object \n",
            " 10  param_colsample_bylevel  50 non-null     object \n",
            " 11  param_booster            50 non-null     object \n",
            " 12  params                   50 non-null     object \n",
            " 13  split0_test_score        50 non-null     float64\n",
            " 14  split1_test_score        50 non-null     float64\n",
            " 15  split2_test_score        50 non-null     float64\n",
            " 16  split3_test_score        50 non-null     float64\n",
            " 17  split4_test_score        50 non-null     float64\n",
            " 18  mean_test_score          50 non-null     float64\n",
            " 19  std_test_score           50 non-null     float64\n",
            " 20  rank_test_score          50 non-null     int32  \n",
            "dtypes: float64(11), int32(1), object(9)\n",
            "memory usage: 8.1+ KB\n"
          ]
        }
      ],
      "source": [
        "result.info()"
      ]
    },
    {
      "cell_type": "markdown",
      "metadata": {},
      "source": [
        "**Graph accuracy vs hyperparameters:**\n",
        "\n",
        "*   Number of trees: the relationship is non-linear, it is not clear from the graph whether more trees in the model are associated with higher accuracy, at least for this training data. \n",
        "\n",
        "*   Min N required to split: a higher percentange of the minimum sample required for the model to make the split is associated with lower accuracy. In other words, a higher sample size required to split a node is associated with lower accuracy\n",
        "\n",
        "*   Min N within leaf: a higher percentange of the minimum sample required within a leaf is associated with lower accuracy. In other words, a higher sample size required within a leaf is associated with lower accuracy. The peak decline in accuracy approximately occurs after 0.3\n",
        "\n",
        "*   Maximum depth: it seems like the maximum depth follows an inverse parabolic relationsip with accuracy, meaning that, in very low or very high values of maximum depth, accuracy seems to be lower. In contrast, within middle values of maximum depth, accuracy is higher"
      ]
    },
    {
      "cell_type": "code",
      "execution_count": 15,
      "metadata": {},
      "outputs": [
        {
          "data": {
            "image/png": "[encoded data removed]",
            "text/plain": [
              "<Figure size 950x800 with 6 Axes>"
            ]
          },
          "metadata": {},
          "output_type": "display_data"
        }
      ],
      "source": [
        "metrics2=result\n",
        "\n",
        "\n",
        "fig, ax = plt.subplots(3,2, figsize=(9.5,8))\n",
        "\n",
        "ax[0,0].scatter(metrics2['max_depth'], metrics2['mean_test_score'], label='Train model')\n",
        "ax[0,0].set_ylabel('Mean Accuracy')\n",
        "ax[0,0].set_xlabel('max_depth')\n",
        "#ax[0,0].set_title('All alpha values')\n",
        "ax[0,0].legend()\n",
        "\n",
        "\n",
        "ax[0,1].scatter(metrics2['param_learning_rate'], metrics2['mean_test_score'])\n",
        "ax[0,1].set_xlabel('Learning rate')\n",
        "#ax[0,1].set_title('Only alpha values>0')\n",
        "\n",
        "ax[1,0].scatter(metrics2['n_estimators'], metrics2['mean_test_score'], label='Train model')\n",
        "ax[1,0].set_ylabel('Mean Accuracy')\n",
        "ax[1,0].set_xlabel('n_estimators')\n",
        "ax[1,0].legend()\n",
        "\n",
        "ax[1,1].scatter(metrics2['param_min_split_loss'], metrics2['mean_test_score'])\n",
        "ax[1,1].set_xlabel('min_split_loss')\n",
        "\n",
        "ax[2,0].scatter(metrics2['param_min_child_weight'], metrics2['mean_test_score'])\n",
        "ax[2,0].set_xlabel('min_child_weight')\n",
        "\n",
        "ax[2,1].scatter(metrics2['param_colsample_bylevel'], metrics2['mean_test_score'])\n",
        "ax[2,1].set_xlabel('colsample_bylevel')\n",
        "\n",
        "note_text = \"Note: hyperparameters 'Min N within leaf' and 'Min N required to split' are measured as a proportion\"\n",
        "fig.text(0.5, -0.02, note_text, ha='center', fontsize=10,\n",
        "         bbox=dict(facecolor='lightgray', alpha=0.2))\n",
        "\n",
        "plt.suptitle('Random forest classifier performance')\n",
        "plt.tight_layout()\n",
        "plt.show()"
      ]
    },
    {
      "cell_type": "markdown",
      "metadata": {},
      "source": [
        "Selecting the best performing 10 models:"
      ]
    },
    {
      "cell_type": "code",
      "execution_count": 43,
      "metadata": {},
      "outputs": [],
      "source": [
        "best_models=result.nlargest(10, 'mean_test_score')"
      ]
    },
    {
      "cell_type": "code",
      "execution_count": 44,
      "metadata": {},
      "outputs": [
        {
          "data": {
            "text/html": [
              "<div>\n",
              "<style scoped>\n",
              "    .dataframe tbody tr th:only-of-type {\n",
              "        vertical-align: middle;\n",
              "    }\n",
              "\n",
              "    .dataframe tbody tr th {\n",
              "        vertical-align: top;\n",
              "    }\n",
              "\n",
              "    .dataframe thead th {\n",
              "        text-align: right;\n",
              "    }\n",
              "</style>\n",
              "<table border=\"1\" class=\"dataframe\">\n",
              "  <thead>\n",
              "    <tr style=\"text-align: right;\">\n",
              "      <th></th>\n",
              "      <th>mean_fit_time</th>\n",
              "      <th>std_fit_time</th>\n",
              "      <th>mean_score_time</th>\n",
              "      <th>std_score_time</th>\n",
              "      <th>param_subsample</th>\n",
              "      <th>n_estimators</th>\n",
              "      <th>param_min_split_loss</th>\n",
              "      <th>param_min_child_weight</th>\n",
              "      <th>max_depth</th>\n",
              "      <th>param_learning_rate</th>\n",
              "      <th>...</th>\n",
              "      <th>param_booster</th>\n",
              "      <th>params</th>\n",
              "      <th>split0_test_score</th>\n",
              "      <th>split1_test_score</th>\n",
              "      <th>split2_test_score</th>\n",
              "      <th>split3_test_score</th>\n",
              "      <th>split4_test_score</th>\n",
              "      <th>mean_test_score</th>\n",
              "      <th>std_test_score</th>\n",
              "      <th>rank_test_score</th>\n",
              "    </tr>\n",
              "  </thead>\n",
              "  <tbody>\n",
              "    <tr>\n",
              "      <th>38</th>\n",
              "      <td>0.049019</td>\n",
              "      <td>0.002661</td>\n",
              "      <td>0.002764</td>\n",
              "      <td>0.000047</td>\n",
              "      <td>0.01</td>\n",
              "      <td>617</td>\n",
              "      <td>570</td>\n",
              "      <td>0.406</td>\n",
              "      <td>469</td>\n",
              "      <td>0.2575</td>\n",
              "      <td>...</td>\n",
              "      <td>gblinear</td>\n",
              "      <td>{'subsample': 0.01, 'n_estimators': 617, 'min_...</td>\n",
              "      <td>0.756098</td>\n",
              "      <td>0.821138</td>\n",
              "      <td>0.739837</td>\n",
              "      <td>0.756098</td>\n",
              "      <td>0.786885</td>\n",
              "      <td>0.772011</td>\n",
              "      <td>0.028901</td>\n",
              "      <td>1</td>\n",
              "    </tr>\n",
              "    <tr>\n",
              "      <th>5</th>\n",
              "      <td>0.035823</td>\n",
              "      <td>0.001547</td>\n",
              "      <td>0.002513</td>\n",
              "      <td>0.000114</td>\n",
              "      <td>0.406</td>\n",
              "      <td>452</td>\n",
              "      <td>249</td>\n",
              "      <td>0.802</td>\n",
              "      <td>469</td>\n",
              "      <td>0.2575</td>\n",
              "      <td>...</td>\n",
              "      <td>gblinear</td>\n",
              "      <td>{'subsample': 0.406, 'n_estimators': 452, 'min...</td>\n",
              "      <td>0.756098</td>\n",
              "      <td>0.813008</td>\n",
              "      <td>0.723577</td>\n",
              "      <td>0.756098</td>\n",
              "      <td>0.770492</td>\n",
              "      <td>0.763854</td>\n",
              "      <td>0.028992</td>\n",
              "      <td>2</td>\n",
              "    </tr>\n",
              "    <tr>\n",
              "      <th>36</th>\n",
              "      <td>0.022883</td>\n",
              "      <td>0.008282</td>\n",
              "      <td>0.002583</td>\n",
              "      <td>0.000107</td>\n",
              "      <td>0.208</td>\n",
              "      <td>211</td>\n",
              "      <td>570</td>\n",
              "      <td>0.604</td>\n",
              "      <td>27</td>\n",
              "      <td>0.2575</td>\n",
              "      <td>...</td>\n",
              "      <td>gblinear</td>\n",
              "      <td>{'subsample': 0.20800000000000002, 'n_estimato...</td>\n",
              "      <td>0.747967</td>\n",
              "      <td>0.788618</td>\n",
              "      <td>0.739837</td>\n",
              "      <td>0.739837</td>\n",
              "      <td>0.745902</td>\n",
              "      <td>0.752432</td>\n",
              "      <td>0.018381</td>\n",
              "      <td>3</td>\n",
              "    </tr>\n",
              "    <tr>\n",
              "      <th>14</th>\n",
              "      <td>0.013818</td>\n",
              "      <td>0.001404</td>\n",
              "      <td>0.002418</td>\n",
              "      <td>0.000066</td>\n",
              "      <td>0.01</td>\n",
              "      <td>140</td>\n",
              "      <td>546</td>\n",
              "      <td>0.208</td>\n",
              "      <td>469</td>\n",
              "      <td>0.2575</td>\n",
              "      <td>...</td>\n",
              "      <td>gblinear</td>\n",
              "      <td>{'subsample': 0.01, 'n_estimators': 140, 'min_...</td>\n",
              "      <td>0.723577</td>\n",
              "      <td>0.764228</td>\n",
              "      <td>0.747967</td>\n",
              "      <td>0.731707</td>\n",
              "      <td>0.745902</td>\n",
              "      <td>0.742676</td>\n",
              "      <td>0.014057</td>\n",
              "      <td>4</td>\n",
              "    </tr>\n",
              "    <tr>\n",
              "      <th>11</th>\n",
              "      <td>0.009668</td>\n",
              "      <td>0.000504</td>\n",
              "      <td>0.002385</td>\n",
              "      <td>0.000029</td>\n",
              "      <td>0.406</td>\n",
              "      <td>88</td>\n",
              "      <td>124</td>\n",
              "      <td>0.208</td>\n",
              "      <td>469</td>\n",
              "      <td>0.2575</td>\n",
              "      <td>...</td>\n",
              "      <td>gblinear</td>\n",
              "      <td>{'subsample': 0.406, 'n_estimators': 88, 'min_...</td>\n",
              "      <td>0.715447</td>\n",
              "      <td>0.747967</td>\n",
              "      <td>0.723577</td>\n",
              "      <td>0.723577</td>\n",
              "      <td>0.737705</td>\n",
              "      <td>0.729655</td>\n",
              "      <td>0.011627</td>\n",
              "      <td>5</td>\n",
              "    </tr>\n",
              "    <tr>\n",
              "      <th>9</th>\n",
              "      <td>0.046995</td>\n",
              "      <td>0.002427</td>\n",
              "      <td>0.003188</td>\n",
              "      <td>0.001101</td>\n",
              "      <td>0.01</td>\n",
              "      <td>617</td>\n",
              "      <td>447</td>\n",
              "      <td>0.406</td>\n",
              "      <td>27</td>\n",
              "      <td>0.01</td>\n",
              "      <td>...</td>\n",
              "      <td>gblinear</td>\n",
              "      <td>{'subsample': 0.01, 'n_estimators': 617, 'min_...</td>\n",
              "      <td>0.715447</td>\n",
              "      <td>0.658537</td>\n",
              "      <td>0.691057</td>\n",
              "      <td>0.682927</td>\n",
              "      <td>0.696721</td>\n",
              "      <td>0.688938</td>\n",
              "      <td>0.018591</td>\n",
              "      <td>6</td>\n",
              "    </tr>\n",
              "    <tr>\n",
              "      <th>39</th>\n",
              "      <td>0.018456</td>\n",
              "      <td>0.001341</td>\n",
              "      <td>0.002585</td>\n",
              "      <td>0.000166</td>\n",
              "      <td>0.01</td>\n",
              "      <td>211</td>\n",
              "      <td>447</td>\n",
              "      <td>0.604</td>\n",
              "      <td>27</td>\n",
              "      <td>0.01</td>\n",
              "      <td>...</td>\n",
              "      <td>gblinear</td>\n",
              "      <td>{'subsample': 0.01, 'n_estimators': 211, 'min_...</td>\n",
              "      <td>0.666667</td>\n",
              "      <td>0.658537</td>\n",
              "      <td>0.650407</td>\n",
              "      <td>0.650407</td>\n",
              "      <td>0.663934</td>\n",
              "      <td>0.657990</td>\n",
              "      <td>0.006722</td>\n",
              "      <td>7</td>\n",
              "    </tr>\n",
              "    <tr>\n",
              "      <th>0</th>\n",
              "      <td>0.041162</td>\n",
              "      <td>0.016670</td>\n",
              "      <td>0.004371</td>\n",
              "      <td>0.003287</td>\n",
              "      <td>0.604</td>\n",
              "      <td>211</td>\n",
              "      <td>570</td>\n",
              "      <td>0.01</td>\n",
              "      <td>469</td>\n",
              "      <td>0.7525</td>\n",
              "      <td>...</td>\n",
              "      <td>gbtree</td>\n",
              "      <td>{'subsample': 0.6040000000000001, 'n_estimator...</td>\n",
              "      <td>0.658537</td>\n",
              "      <td>0.650407</td>\n",
              "      <td>0.650407</td>\n",
              "      <td>0.650407</td>\n",
              "      <td>0.655738</td>\n",
              "      <td>0.653099</td>\n",
              "      <td>0.003414</td>\n",
              "      <td>8</td>\n",
              "    </tr>\n",
              "    <tr>\n",
              "      <th>1</th>\n",
              "      <td>0.512745</td>\n",
              "      <td>0.110294</td>\n",
              "      <td>0.019912</td>\n",
              "      <td>0.028926</td>\n",
              "      <td>0.604</td>\n",
              "      <td>140</td>\n",
              "      <td>124</td>\n",
              "      <td>0.802</td>\n",
              "      <td>39</td>\n",
              "      <td>0.7525</td>\n",
              "      <td>...</td>\n",
              "      <td>dart</td>\n",
              "      <td>{'subsample': 0.6040000000000001, 'n_estimator...</td>\n",
              "      <td>0.658537</td>\n",
              "      <td>0.650407</td>\n",
              "      <td>0.650407</td>\n",
              "      <td>0.650407</td>\n",
              "      <td>0.655738</td>\n",
              "      <td>0.653099</td>\n",
              "      <td>0.003414</td>\n",
              "      <td>8</td>\n",
              "    </tr>\n",
              "    <tr>\n",
              "      <th>2</th>\n",
              "      <td>8.356124</td>\n",
              "      <td>0.255131</td>\n",
              "      <td>0.015370</td>\n",
              "      <td>0.001292</td>\n",
              "      <td>0.406</td>\n",
              "      <td>617</td>\n",
              "      <td>546</td>\n",
              "      <td>0.802</td>\n",
              "      <td>469</td>\n",
              "      <td>0.7525</td>\n",
              "      <td>...</td>\n",
              "      <td>dart</td>\n",
              "      <td>{'subsample': 0.406, 'n_estimators': 617, 'min...</td>\n",
              "      <td>0.658537</td>\n",
              "      <td>0.650407</td>\n",
              "      <td>0.650407</td>\n",
              "      <td>0.650407</td>\n",
              "      <td>0.655738</td>\n",
              "      <td>0.653099</td>\n",
              "      <td>0.003414</td>\n",
              "      <td>8</td>\n",
              "    </tr>\n",
              "  </tbody>\n",
              "</table>\n",
              "<p>10 rows × 21 columns</p>\n",
              "</div>"
            ],
            "text/plain": [
              "    mean_fit_time  std_fit_time  mean_score_time  std_score_time  \\\n",
              "38       0.049019      0.002661         0.002764        0.000047   \n",
              "5        0.035823      0.001547         0.002513        0.000114   \n",
              "36       0.022883      0.008282         0.002583        0.000107   \n",
              "14       0.013818      0.001404         0.002418        0.000066   \n",
              "11       0.009668      0.000504         0.002385        0.000029   \n",
              "9        0.046995      0.002427         0.003188        0.001101   \n",
              "39       0.018456      0.001341         0.002585        0.000166   \n",
              "0        0.041162      0.016670         0.004371        0.003287   \n",
              "1        0.512745      0.110294         0.019912        0.028926   \n",
              "2        8.356124      0.255131         0.015370        0.001292   \n",
              "\n",
              "   param_subsample n_estimators param_min_split_loss param_min_child_weight  \\\n",
              "38            0.01          617                  570                  0.406   \n",
              "5            0.406          452                  249                  0.802   \n",
              "36           0.208          211                  570                  0.604   \n",
              "14            0.01          140                  546                  0.208   \n",
              "11           0.406           88                  124                  0.208   \n",
              "9             0.01          617                  447                  0.406   \n",
              "39            0.01          211                  447                  0.604   \n",
              "0            0.604          211                  570                   0.01   \n",
              "1            0.604          140                  124                  0.802   \n",
              "2            0.406          617                  546                  0.802   \n",
              "\n",
              "   max_depth param_learning_rate  ... param_booster  \\\n",
              "38       469              0.2575  ...      gblinear   \n",
              "5        469              0.2575  ...      gblinear   \n",
              "36        27              0.2575  ...      gblinear   \n",
              "14       469              0.2575  ...      gblinear   \n",
              "11       469              0.2575  ...      gblinear   \n",
              "9         27                0.01  ...      gblinear   \n",
              "39        27                0.01  ...      gblinear   \n",
              "0        469              0.7525  ...        gbtree   \n",
              "1         39              0.7525  ...          dart   \n",
              "2        469              0.7525  ...          dart   \n",
              "\n",
              "                                               params split0_test_score  \\\n",
              "38  {'subsample': 0.01, 'n_estimators': 617, 'min_...          0.756098   \n",
              "5   {'subsample': 0.406, 'n_estimators': 452, 'min...          0.756098   \n",
              "36  {'subsample': 0.20800000000000002, 'n_estimato...          0.747967   \n",
              "14  {'subsample': 0.01, 'n_estimators': 140, 'min_...          0.723577   \n",
              "11  {'subsample': 0.406, 'n_estimators': 88, 'min_...          0.715447   \n",
              "9   {'subsample': 0.01, 'n_estimators': 617, 'min_...          0.715447   \n",
              "39  {'subsample': 0.01, 'n_estimators': 211, 'min_...          0.666667   \n",
              "0   {'subsample': 0.6040000000000001, 'n_estimator...          0.658537   \n",
              "1   {'subsample': 0.6040000000000001, 'n_estimator...          0.658537   \n",
              "2   {'subsample': 0.406, 'n_estimators': 617, 'min...          0.658537   \n",
              "\n",
              "    split1_test_score  split2_test_score  split3_test_score  \\\n",
              "38           0.821138           0.739837           0.756098   \n",
              "5            0.813008           0.723577           0.756098   \n",
              "36           0.788618           0.739837           0.739837   \n",
              "14           0.764228           0.747967           0.731707   \n",
              "11           0.747967           0.723577           0.723577   \n",
              "9            0.658537           0.691057           0.682927   \n",
              "39           0.658537           0.650407           0.650407   \n",
              "0            0.650407           0.650407           0.650407   \n",
              "1            0.650407           0.650407           0.650407   \n",
              "2            0.650407           0.650407           0.650407   \n",
              "\n",
              "    split4_test_score  mean_test_score  std_test_score  rank_test_score  \n",
              "38           0.786885         0.772011        0.028901                1  \n",
              "5            0.770492         0.763854        0.028992                2  \n",
              "36           0.745902         0.752432        0.018381                3  \n",
              "14           0.745902         0.742676        0.014057                4  \n",
              "11           0.737705         0.729655        0.011627                5  \n",
              "9            0.696721         0.688938        0.018591                6  \n",
              "39           0.663934         0.657990        0.006722                7  \n",
              "0            0.655738         0.653099        0.003414                8  \n",
              "1            0.655738         0.653099        0.003414                8  \n",
              "2            0.655738         0.653099        0.003414                8  \n",
              "\n",
              "[10 rows x 21 columns]"
            ]
          },
          "execution_count": 44,
          "metadata": {},
          "output_type": "execute_result"
        }
      ],
      "source": [
        "best_models"
      ]
    },
    {
      "cell_type": "markdown",
      "metadata": {
        "id": "1F1OShyCaUTi"
      },
      "source": [
        "Obtaining best hyperparameters:"
      ]
    },
    {
      "cell_type": "code",
      "execution_count": 45,
      "metadata": {},
      "outputs": [],
      "source": [
        "acc=pd.DataFrame(columns=['params','accuracy'])\n",
        "\n",
        "for hyp in best_models['params']:\n",
        "    boost_opt=XGBClassifier(**hyp, random_state = 42)\n",
        "    boost_opt.fit(X_train_nn, y_train)\n",
        "    y_pred_train=boost_opt.predict(X_train_nn)\n",
        "    acc.loc[len(acc)]={\n",
        "        'accuracy':accuracy_score(y_pred_train,y_train),\n",
        "        'params': hyp}"
      ]
    },
    {
      "cell_type": "markdown",
      "metadata": {},
      "source": [
        "Storing best hyperparameters"
      ]
    },
    {
      "cell_type": "code",
      "execution_count": 57,
      "metadata": {
        "id": "7GiQuI6rZQMb"
      },
      "outputs": [
        {
          "data": {
            "text/plain": [
              "{'subsample': 0.01,\n",
              " 'n_estimators': 617,\n",
              " 'min_split_loss': 570,\n",
              " 'min_child_weight': 0.406,\n",
              " 'max_depth': 469,\n",
              " 'learning_rate': 0.2575,\n",
              " 'colsample_bylevel': 0.7525,\n",
              " 'booster': 'gblinear'}"
            ]
          },
          "execution_count": 57,
          "metadata": {},
          "output_type": "execute_result"
        }
      ],
      "source": [
        "best_params=acc.nlargest(1, 'accuracy')['params'].iloc[0]\n",
        "best_params"
      ]
    },
    {
      "cell_type": "markdown",
      "metadata": {
        "id": "xRv49qOlaiew"
      },
      "source": [
        "# Optimised model"
      ]
    },
    {
      "cell_type": "code",
      "execution_count": 61,
      "metadata": {
        "id": "PN5ymTc6alvU"
      },
      "outputs": [],
      "source": [
        "boost_opt=XGBClassifier(**best_params, random_state = 42)"
      ]
    },
    {
      "cell_type": "code",
      "execution_count": 62,
      "metadata": {
        "colab": {
          "base_uri": "https://localhost:8080/",
          "height": 91
        },
        "id": "DquaB724a_yP",
        "outputId": "d4ce2c57-27de-456f-aa4e-902d27323237"
      },
      "outputs": [
        {
          "data": {
            "text/html": [
              "<style>#sk-container-id-5 {color: black;}#sk-container-id-5 pre{padding: 0;}#sk-container-id-5 div.sk-toggleable {background-color: white;}#sk-container-id-5 label.sk-toggleable__label {cursor: pointer;display: block;width: 100%;margin-bottom: 0;padding: 0.3em;box-sizing: border-box;text-align: center;}#sk-container-id-5 label.sk-toggleable__label-arrow:before {content: \"▸\";float: left;margin-right: 0.25em;color: #696969;}#sk-container-id-5 label.sk-toggleable__label-arrow:hover:before {color: black;}#sk-container-id-5 div.sk-estimator:hover label.sk-toggleable__label-arrow:before {color: black;}#sk-container-id-5 div.sk-toggleable__content {max-height: 0;max-width: 0;overflow: hidden;text-align: left;background-color: #f0f8ff;}#sk-container-id-5 div.sk-toggleable__content pre {margin: 0.2em;color: black;border-radius: 0.25em;background-color: #f0f8ff;}#sk-container-id-5 input.sk-toggleable__control:checked~div.sk-toggleable__content {max-height: 200px;max-width: 100%;overflow: auto;}#sk-container-id-5 input.sk-toggleable__control:checked~label.sk-toggleable__label-arrow:before {content: \"▾\";}#sk-container-id-5 div.sk-estimator input.sk-toggleable__control:checked~label.sk-toggleable__label {background-color: #d4ebff;}#sk-container-id-5 div.sk-label input.sk-toggleable__control:checked~label.sk-toggleable__label {background-color: #d4ebff;}#sk-container-id-5 input.sk-hidden--visually {border: 0;clip: rect(1px 1px 1px 1px);clip: rect(1px, 1px, 1px, 1px);height: 1px;margin: -1px;overflow: hidden;padding: 0;position: absolute;width: 1px;}#sk-container-id-5 div.sk-estimator {font-family: monospace;background-color: #f0f8ff;border: 1px dotted black;border-radius: 0.25em;box-sizing: border-box;margin-bottom: 0.5em;}#sk-container-id-5 div.sk-estimator:hover {background-color: #d4ebff;}#sk-container-id-5 div.sk-parallel-item::after {content: \"\";width: 100%;border-bottom: 1px solid gray;flex-grow: 1;}#sk-container-id-5 div.sk-label:hover label.sk-toggleable__label {background-color: #d4ebff;}#sk-container-id-5 div.sk-serial::before {content: \"\";position: absolute;border-left: 1px solid gray;box-sizing: border-box;top: 0;bottom: 0;left: 50%;z-index: 0;}#sk-container-id-5 div.sk-serial {display: flex;flex-direction: column;align-items: center;background-color: white;padding-right: 0.2em;padding-left: 0.2em;position: relative;}#sk-container-id-5 div.sk-item {position: relative;z-index: 1;}#sk-container-id-5 div.sk-parallel {display: flex;align-items: stretch;justify-content: center;background-color: white;position: relative;}#sk-container-id-5 div.sk-item::before, #sk-container-id-5 div.sk-parallel-item::before {content: \"\";position: absolute;border-left: 1px solid gray;box-sizing: border-box;top: 0;bottom: 0;left: 50%;z-index: -1;}#sk-container-id-5 div.sk-parallel-item {display: flex;flex-direction: column;z-index: 1;position: relative;background-color: white;}#sk-container-id-5 div.sk-parallel-item:first-child::after {align-self: flex-end;width: 50%;}#sk-container-id-5 div.sk-parallel-item:last-child::after {align-self: flex-start;width: 50%;}#sk-container-id-5 div.sk-parallel-item:only-child::after {width: 0;}#sk-container-id-5 div.sk-dashed-wrapped {border: 1px dashed gray;margin: 0 0.4em 0.5em 0.4em;box-sizing: border-box;padding-bottom: 0.4em;background-color: white;}#sk-container-id-5 div.sk-label label {font-family: monospace;font-weight: bold;display: inline-block;line-height: 1.2em;}#sk-container-id-5 div.sk-label-container {text-align: center;}#sk-container-id-5 div.sk-container {/* jupyter's `normalize.less` sets `[hidden] { display: none; }` but bootstrap.min.css set `[hidden] { display: none !important; }` so we also need the `!important` here to be able to override the default hidden behavior on the sphinx rendered scikit-learn.org. See: https://github.com/scikit-learn/scikit-learn/issues/21755 */display: inline-block !important;position: relative;}#sk-container-id-5 div.sk-text-repr-fallback {display: none;}</style><div id=\"sk-container-id-5\" class=\"sk-top-container\"><div class=\"sk-text-repr-fallback\"><pre>XGBClassifier(base_score=None, booster=&#x27;gblinear&#x27;, callbacks=None,\n",
              "              colsample_bylevel=0.7525, colsample_bynode=None,\n",
              "              colsample_bytree=None, device=None, early_stopping_rounds=None,\n",
              "              enable_categorical=False, eval_metric=None, feature_types=None,\n",
              "              gamma=None, grow_policy=None, importance_type=None,\n",
              "              interaction_constraints=None, learning_rate=0.2575, max_bin=None,\n",
              "              max_cat_threshold=None, max_cat_to_onehot=None,\n",
              "              max_delta_step=None, max_depth=469, max_leaves=None,\n",
              "              min_child_weight=0.406, min_split_loss=570, missing=nan,\n",
              "              monotone_constraints=None, multi_strategy=None, n_estimators=617,\n",
              "              n_jobs=None, num_parallel_tree=None, ...)</pre><b>In a Jupyter environment, please rerun this cell to show the HTML representation or trust the notebook. <br />On GitHub, the HTML representation is unable to render, please try loading this page with nbviewer.org.</b></div><div class=\"sk-container\" hidden><div class=\"sk-item\"><div class=\"sk-estimator sk-toggleable\"><input class=\"sk-toggleable__control sk-hidden--visually\" id=\"sk-estimator-id-7\" type=\"checkbox\" checked><label for=\"sk-estimator-id-7\" class=\"sk-toggleable__label sk-toggleable__label-arrow\">XGBClassifier</label><div class=\"sk-toggleable__content\"><pre>XGBClassifier(base_score=None, booster=&#x27;gblinear&#x27;, callbacks=None,\n",
              "              colsample_bylevel=0.7525, colsample_bynode=None,\n",
              "              colsample_bytree=None, device=None, early_stopping_rounds=None,\n",
              "              enable_categorical=False, eval_metric=None, feature_types=None,\n",
              "              gamma=None, grow_policy=None, importance_type=None,\n",
              "              interaction_constraints=None, learning_rate=0.2575, max_bin=None,\n",
              "              max_cat_threshold=None, max_cat_to_onehot=None,\n",
              "              max_delta_step=None, max_depth=469, max_leaves=None,\n",
              "              min_child_weight=0.406, min_split_loss=570, missing=nan,\n",
              "              monotone_constraints=None, multi_strategy=None, n_estimators=617,\n",
              "              n_jobs=None, num_parallel_tree=None, ...)</pre></div></div></div></div></div>"
            ],
            "text/plain": [
              "XGBClassifier(base_score=None, booster='gblinear', callbacks=None,\n",
              "              colsample_bylevel=0.7525, colsample_bynode=None,\n",
              "              colsample_bytree=None, device=None, early_stopping_rounds=None,\n",
              "              enable_categorical=False, eval_metric=None, feature_types=None,\n",
              "              gamma=None, grow_policy=None, importance_type=None,\n",
              "              interaction_constraints=None, learning_rate=0.2575, max_bin=None,\n",
              "              max_cat_threshold=None, max_cat_to_onehot=None,\n",
              "              max_delta_step=None, max_depth=469, max_leaves=None,\n",
              "              min_child_weight=0.406, min_split_loss=570, missing=nan,\n",
              "              monotone_constraints=None, multi_strategy=None, n_estimators=617,\n",
              "              n_jobs=None, num_parallel_tree=None, ...)"
            ]
          },
          "execution_count": 62,
          "metadata": {},
          "output_type": "execute_result"
        }
      ],
      "source": [
        "boost_opt.fit(X_train_nn, y_train)"
      ]
    },
    {
      "cell_type": "markdown",
      "metadata": {},
      "source": [
        "Saving optmised model"
      ]
    },
    {
      "cell_type": "code",
      "execution_count": 63,
      "metadata": {},
      "outputs": [],
      "source": [
        "dump(boost_opt, open('/workspaces/Boosting_ML_Diabetes/boostgblinear_depth87_wgt0.6_estim145_seed42.pk', 'wb'))"
      ]
    },
    {
      "cell_type": "markdown",
      "metadata": {
        "id": "n9x6BcgwcLgl"
      },
      "source": [
        "## Evaluating model performance"
      ]
    },
    {
      "cell_type": "markdown",
      "metadata": {
        "id": "OAOuBVHKchn_"
      },
      "source": [
        "**Accuracy train vs test data**\n",
        "\n",
        "The model accurately diagnoses 75% of the patients. Now, there seems to be no overfitting since both measures of accuracy in train and test data are now much closer."
      ]
    },
    {
      "cell_type": "code",
      "execution_count": 64,
      "metadata": {
        "colab": {
          "base_uri": "https://localhost:8080/"
        },
        "id": "Nw24HLqGcMAk",
        "outputId": "70f0009c-1164-4d81-dc33-2df449f25917"
      },
      "outputs": [
        {
          "name": "stdout",
          "output_type": "stream",
          "text": [
            "Accuracy train:  0.7687296416938111\n",
            "Accuracy test:  0.7532467532467533\n"
          ]
        }
      ],
      "source": [
        "y_pred_train=boost_opt.predict(X_train_nn)\n",
        "y_pred=boost_opt.predict(X_test_nn)\n",
        "boost_acc_opt= accuracy_score(y_pred,y_test)\n",
        "print('Accuracy train: ', accuracy_score(y_pred_train,y_train))\n",
        "print('Accuracy test: ', boost_acc_opt)"
      ]
    },
    {
      "cell_type": "markdown",
      "metadata": {},
      "source": [
        "**Accuracy baseline boosting vs optimised boosting:**\n",
        "The optimised boosting (RF) outperformed in accuracy the baseline model by 1.3 percentage points."
      ]
    },
    {
      "cell_type": "code",
      "execution_count": 65,
      "metadata": {},
      "outputs": [
        {
          "name": "stdout",
          "output_type": "stream",
          "text": [
            "Accuracy optimised boosting :  0.7532467532467533\n",
            "Accuracy baseline boosting:  0.7402597402597403\n"
          ]
        }
      ],
      "source": [
        "print('Accuracy optimised boosting : ', boost_acc_opt)\n",
        "print('Accuracy baseline boosting: ', boost_acc_base)"
      ]
    },
    {
      "cell_type": "markdown",
      "metadata": {
        "id": "rOxQjnoLVn0N"
      },
      "source": [
        "**Confusion matrix:**\n",
        "\n",
        "The model improved on detecting the patients who do not have diabetes but there are still 21 patients missdiagnosed (5 more, compared to the baseline)."
      ]
    },
    {
      "cell_type": "code",
      "execution_count": 66,
      "metadata": {
        "colab": {
          "base_uri": "https://localhost:8080/",
          "height": 505
        },
        "id": "6hKTJA3nVqaI",
        "outputId": "93a1d60b-cc2a-46fb-9a96-69b3a5ef99cf"
      },
      "outputs": [
        {
          "data": {
            "image/png": "[encoded data removed]",
            "text/plain": [
              "<Figure size 900x500 with 4 Axes>"
            ]
          },
          "metadata": {},
          "output_type": "display_data"
        }
      ],
      "source": [
        "rf_opt_cm = metrics.ConfusionMatrixDisplay(\n",
        "    confusion_matrix = metrics.confusion_matrix(y_test, y_pred), display_labels = ['NO Diabetes', 'Diabetes']    )\n",
        "# plot CM\n",
        "fig, ax= plt.subplots(1,2, figsize=(9,5))\n",
        "rf_opt_cm.plot(cmap = 'PuRd', ax=ax[0])\n",
        "ax[0].set_title('Optimised Boosting')\n",
        "\n",
        "boost_base_cm.plot(cmap = 'PuRd', ax=ax[1])\n",
        "ax[1].set_ylabel('')\n",
        "ax[1].set_title('Baseline Boosting')\n",
        "\n",
        "plt.tight_layout()\n",
        "plt.show()"
      ]
    }
  ],
  "metadata": {
    "colab": {
      "provenance": []
    },
    "kernelspec": {
      "display_name": "Python 3",
      "name": "python3"
    },
    "language_info": {
      "codemirror_mode": {
        "name": "ipython",
        "version": 3
      },
      "file_extension": ".py",
      "mimetype": "text/x-python",
      "name": "python",
      "nbconvert_exporter": "python",
      "pygments_lexer": "ipython3",
      "version": "3.11.4"
    }
  },
  "nbformat": 4,
  "nbformat_minor": 0
}
